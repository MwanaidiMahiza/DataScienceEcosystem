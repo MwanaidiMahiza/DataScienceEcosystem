{
 "cells": [
  {
   "cell_type": "markdown",
   "id": "d671a3a6-22e5-426f-b824-f9492b1ce879",
   "metadata": {},
   "source": [
    "# H1: Data Science Tools and Ecosystem"
   ]
  },
  {
   "cell_type": "markdown",
   "id": "4ecc4a63-1cd8-4f3f-ae88-8c180a38102c",
   "metadata": {},
   "source": [
    "In this notebook, Data Science Tools and Ecosystem are summarized."
   ]
  },
  {
   "cell_type": "markdown",
   "id": "154974a0-2259-471b-9c6b-847776e442bc",
   "metadata": {},
   "source": [
    "__Objectives__\n",
    "- To record\n",
    "their data experiments and results that others can reuse\n",
    "- To combine descriptive text,\n",
    "code blocks, and code output in a single file\n",
    "- To generates the output,\n",
    "including plots and tables, within the notebook file.\n",
    "And you can then export the notebook to a PDF\n",
    "or HTML file format that can then be shared with anyone.\n"
   ]
  },
  {
   "cell_type": "markdown",
   "id": "a9972986-4c2a-4e5f-bf0c-d4e07e56f8e3",
   "metadata": {},
   "source": [
    "\n",
    "Some of the popular languages that Data Scientists use are:\n",
    "1. Python\n",
    "2.  R\n",
    "3.  SQL\n",
    "4.  C++"
   ]
  },
  {
   "cell_type": "markdown",
   "id": "00b46354-c633-48d3-84d6-e3f222a03017",
   "metadata": {},
   "source": [
    "Some of the commonly used libraries used by Data Scientists include:\n",
    "1. Pandas\n",
    "2. Numpy\n",
    "3. Matplotlib\n",
    "4. Plotly\n",
    "5. Seanborn\n"
   ]
  },
  {
   "cell_type": "markdown",
   "id": "5bd9bce7-e306-4f76-8160-00d6aee0c7b9",
   "metadata": {},
   "source": [
    "|Data science tools|\n",
    "|----------------------|\n",
    "|Hadoop|\n",
    "|Apache Spark|\n",
    "|Tensorflow|\n"
   ]
  },
  {
   "cell_type": "markdown",
   "id": "9a43fb89-0aa6-4204-8c66-7c04d599424c",
   "metadata": {},
   "source": [
    "### H3: Below are a few examples of evaluating arithmetic expressions in Python"
   ]
  },
  {
   "cell_type": "markdown",
   "id": "f2fea6d9-50b3-4edf-955e-e0fd3aa49321",
   "metadata": {},
   "source": [
    "# This a simple arithmetic expression to mutiply then add integers"
   ]
  },
  {
   "cell_type": "code",
   "execution_count": 4,
   "id": "6436bcc2-ad73-4d6f-8e2c-5be964306ca4",
   "metadata": {},
   "outputs": [
    {
     "data": {
      "text/plain": [
       "17"
      ]
     },
     "execution_count": 4,
     "metadata": {},
     "output_type": "execute_result"
    }
   ],
   "source": [
    "(3*4)+5"
   ]
  },
  {
   "cell_type": "markdown",
   "id": "7ac24101-5784-468d-ac38-f67931fdf4f9",
   "metadata": {},
   "source": [
    "# This will convert 200 minutes to hours by diving by 60"
   ]
  },
  {
   "cell_type": "code",
   "execution_count": 5,
   "id": "c438ddd1-0574-4f5f-9e1a-4b415504b51f",
   "metadata": {},
   "outputs": [
    {
     "data": {
      "text/plain": [
       "3.3333333333333335"
      ]
     },
     "execution_count": 5,
     "metadata": {},
     "output_type": "execute_result"
    }
   ],
   "source": [
    "200/60"
   ]
  },
  {
   "cell_type": "markdown",
   "id": "7b247663-8b54-4c18-8b63-63bf74840c37",
   "metadata": {},
   "source": [
    "## H2: Author\n",
    "Mwanaidi Mahiza"
   ]
  },
  {
   "cell_type": "code",
   "execution_count": null,
   "id": "c6e8a0d5-e1da-49a7-83ca-8c923935cb27",
   "metadata": {},
   "outputs": [],
   "source": []
  }
 ],
 "metadata": {
  "kernelspec": {
   "display_name": "Python 3 (ipykernel)",
   "language": "python",
   "name": "python3"
  },
  "language_info": {
   "codemirror_mode": {
    "name": "ipython",
    "version": 3
   },
   "file_extension": ".py",
   "mimetype": "text/x-python",
   "name": "python",
   "nbconvert_exporter": "python",
   "pygments_lexer": "ipython3",
   "version": "3.12.7"
  }
 },
 "nbformat": 4,
 "nbformat_minor": 5
}
